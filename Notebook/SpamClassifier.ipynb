{
 "cells": [
  {
   "cell_type": "code",
   "execution_count": 1,
   "metadata": {},
   "outputs": [],
   "source": [
    "import pandas as pd"
   ]
  },
  {
   "cell_type": "code",
   "execution_count": 2,
   "metadata": {},
   "outputs": [
    {
     "data": {
      "text/html": [
       "<div>\n",
       "<style scoped>\n",
       "    .dataframe tbody tr th:only-of-type {\n",
       "        vertical-align: middle;\n",
       "    }\n",
       "\n",
       "    .dataframe tbody tr th {\n",
       "        vertical-align: top;\n",
       "    }\n",
       "\n",
       "    .dataframe thead th {\n",
       "        text-align: right;\n",
       "    }\n",
       "</style>\n",
       "<table border=\"1\" class=\"dataframe\">\n",
       "  <thead>\n",
       "    <tr style=\"text-align: right;\">\n",
       "      <th></th>\n",
       "      <th>label</th>\n",
       "      <th>message</th>\n",
       "    </tr>\n",
       "  </thead>\n",
       "  <tbody>\n",
       "    <tr>\n",
       "      <th>0</th>\n",
       "      <td>ham</td>\n",
       "      <td>Go until jurong point, crazy.. Available only ...</td>\n",
       "    </tr>\n",
       "    <tr>\n",
       "      <th>1</th>\n",
       "      <td>ham</td>\n",
       "      <td>Ok lar... Joking wif u oni...</td>\n",
       "    </tr>\n",
       "    <tr>\n",
       "      <th>2</th>\n",
       "      <td>spam</td>\n",
       "      <td>Free entry in 2 a wkly comp to win FA Cup fina...</td>\n",
       "    </tr>\n",
       "    <tr>\n",
       "      <th>3</th>\n",
       "      <td>ham</td>\n",
       "      <td>U dun say so early hor... U c already then say...</td>\n",
       "    </tr>\n",
       "    <tr>\n",
       "      <th>4</th>\n",
       "      <td>ham</td>\n",
       "      <td>Nah I don't think he goes to usf, he lives aro...</td>\n",
       "    </tr>\n",
       "    <tr>\n",
       "      <th>...</th>\n",
       "      <td>...</td>\n",
       "      <td>...</td>\n",
       "    </tr>\n",
       "    <tr>\n",
       "      <th>5567</th>\n",
       "      <td>spam</td>\n",
       "      <td>This is the 2nd time we have tried 2 contact u...</td>\n",
       "    </tr>\n",
       "    <tr>\n",
       "      <th>5568</th>\n",
       "      <td>ham</td>\n",
       "      <td>Will ü b going to esplanade fr home?</td>\n",
       "    </tr>\n",
       "    <tr>\n",
       "      <th>5569</th>\n",
       "      <td>ham</td>\n",
       "      <td>Pity, * was in mood for that. So...any other s...</td>\n",
       "    </tr>\n",
       "    <tr>\n",
       "      <th>5570</th>\n",
       "      <td>ham</td>\n",
       "      <td>The guy did some bitching but I acted like i'd...</td>\n",
       "    </tr>\n",
       "    <tr>\n",
       "      <th>5571</th>\n",
       "      <td>ham</td>\n",
       "      <td>Rofl. Its true to its name</td>\n",
       "    </tr>\n",
       "  </tbody>\n",
       "</table>\n",
       "<p>5572 rows × 2 columns</p>\n",
       "</div>"
      ],
      "text/plain": [
       "     label                                            message\n",
       "0      ham  Go until jurong point, crazy.. Available only ...\n",
       "1      ham                      Ok lar... Joking wif u oni...\n",
       "2     spam  Free entry in 2 a wkly comp to win FA Cup fina...\n",
       "3      ham  U dun say so early hor... U c already then say...\n",
       "4      ham  Nah I don't think he goes to usf, he lives aro...\n",
       "...    ...                                                ...\n",
       "5567  spam  This is the 2nd time we have tried 2 contact u...\n",
       "5568   ham               Will ü b going to esplanade fr home?\n",
       "5569   ham  Pity, * was in mood for that. So...any other s...\n",
       "5570   ham  The guy did some bitching but I acted like i'd...\n",
       "5571   ham                         Rofl. Its true to its name\n",
       "\n",
       "[5572 rows x 2 columns]"
      ]
     },
     "execution_count": 2,
     "metadata": {},
     "output_type": "execute_result"
    }
   ],
   "source": [
    "# UCI Machine Learning Repo\n",
    "# dataset: https://archive.ics.uci.edu/dataset/228/sms+spam+collection \n",
    "messages = pd.read_csv('SMSSpamCollection', sep='\\t',\n",
    "                           names=[\"label\", \"message\"])\n",
    "messages"
   ]
  },
  {
   "cell_type": "markdown",
   "metadata": {},
   "source": [
    "## Data Cleaning"
   ]
  },
  {
   "cell_type": "code",
   "execution_count": 3,
   "metadata": {},
   "outputs": [
    {
     "data": {
      "text/plain": [
       "label\n",
       "ham     4825\n",
       "spam     747\n",
       "Name: count, dtype: int64"
      ]
     },
     "execution_count": 3,
     "metadata": {},
     "output_type": "execute_result"
    }
   ],
   "source": [
    "messages['label'].value_counts()"
   ]
  },
  {
   "cell_type": "code",
   "execution_count": 4,
   "metadata": {},
   "outputs": [
    {
     "name": "stdout",
     "output_type": "stream",
     "text": [
      "<class 'pandas.core.frame.DataFrame'>\n",
      "RangeIndex: 5572 entries, 0 to 5571\n",
      "Data columns (total 2 columns):\n",
      " #   Column   Non-Null Count  Dtype \n",
      "---  ------   --------------  ----- \n",
      " 0   label    5572 non-null   object\n",
      " 1   message  5572 non-null   object\n",
      "dtypes: object(2)\n",
      "memory usage: 87.2+ KB\n"
     ]
    }
   ],
   "source": [
    "messages.info()"
   ]
  },
  {
   "cell_type": "code",
   "execution_count": 5,
   "metadata": {},
   "outputs": [
    {
     "data": {
      "text/plain": [
       "label      0\n",
       "message    0\n",
       "dtype: int64"
      ]
     },
     "execution_count": 5,
     "metadata": {},
     "output_type": "execute_result"
    }
   ],
   "source": [
    "# Check for Null Value\n",
    "messages.isnull().sum()"
   ]
  },
  {
   "cell_type": "code",
   "execution_count": 6,
   "metadata": {},
   "outputs": [
    {
     "data": {
      "text/plain": [
       "403"
      ]
     },
     "execution_count": 6,
     "metadata": {},
     "output_type": "execute_result"
    }
   ],
   "source": [
    "# check for duplicate values\n",
    "messages.duplicated().sum()"
   ]
  },
  {
   "cell_type": "code",
   "execution_count": 7,
   "metadata": {},
   "outputs": [],
   "source": [
    "# remove duplicates\n",
    "messages = messages.drop_duplicates(keep='first').reset_index(drop=True)"
   ]
  },
  {
   "cell_type": "code",
   "execution_count": 8,
   "metadata": {},
   "outputs": [
    {
     "data": {
      "text/plain": [
       "0"
      ]
     },
     "execution_count": 8,
     "metadata": {},
     "output_type": "execute_result"
    }
   ],
   "source": [
    "messages.duplicated().sum()"
   ]
  },
  {
   "cell_type": "code",
   "execution_count": 9,
   "metadata": {},
   "outputs": [
    {
     "data": {
      "text/plain": [
       "(5169, 2)"
      ]
     },
     "execution_count": 9,
     "metadata": {},
     "output_type": "execute_result"
    }
   ],
   "source": [
    "messages.shape"
   ]
  },
  {
   "cell_type": "markdown",
   "metadata": {},
   "source": [
    "## EDA"
   ]
  },
  {
   "cell_type": "code",
   "execution_count": 10,
   "metadata": {},
   "outputs": [
    {
     "data": {
      "text/plain": [
       "label\n",
       "ham     4516\n",
       "spam     653\n",
       "Name: count, dtype: int64"
      ]
     },
     "execution_count": 10,
     "metadata": {},
     "output_type": "execute_result"
    }
   ],
   "source": [
    "messages['label'].value_counts()"
   ]
  },
  {
   "cell_type": "code",
   "execution_count": 11,
   "metadata": {},
   "outputs": [
    {
     "data": {
      "text/plain": [
       "<Axes: xlabel='label'>"
      ]
     },
     "execution_count": 11,
     "metadata": {},
     "output_type": "execute_result"
    },
    {
     "data": {
      "image/png": "[encoded data removed]",
      "text/plain": [
       "<Figure size 640x480 with 1 Axes>"
      ]
     },
     "metadata": {},
     "output_type": "display_data"
    }
   ],
   "source": [
    "messages['label'].value_counts().plot(kind='bar')"
   ]
  },
  {
   "cell_type": "code",
   "execution_count": 12,
   "metadata": {},
   "outputs": [
    {
     "data": {
      "image/png": "[encoded data removed]",
      "text/plain": [
       "<Figure size 640x480 with 1 Axes>"
      ]
     },
     "metadata": {},
     "output_type": "display_data"
    }
   ],
   "source": [
    "import matplotlib.pyplot as plt\n",
    "plt.pie(messages['label'].value_counts(), labels=['ham','spam'],autopct=\"%0.2f\")\n",
    "plt.show()"
   ]
  },
  {
   "cell_type": "markdown",
   "metadata": {},
   "source": [
    "## Data Preprocessing"
   ]
  },
  {
   "cell_type": "code",
   "execution_count": 13,
   "metadata": {},
   "outputs": [
    {
     "name": "stderr",
     "output_type": "stream",
     "text": [
      "[nltk_data] Downloading package stopwords to\n",
      "[nltk_data]     C:\\Users\\prana\\AppData\\Roaming\\nltk_data...\n",
      "[nltk_data]   Package stopwords is already up-to-date!\n"
     ]
    }
   ],
   "source": [
    "#Data cleaning and preprocessing\n",
    "import re\n",
    "import nltk\n",
    "nltk.download('stopwords')\n",
    "\n",
    "from nltk.corpus import stopwords\n",
    "from nltk.stem.porter import PorterStemmer"
   ]
  },
  {
   "cell_type": "code",
   "execution_count": 14,
   "metadata": {},
   "outputs": [],
   "source": [
    "ps = PorterStemmer()"
   ]
  },
  {
   "cell_type": "code",
   "execution_count": 15,
   "metadata": {},
   "outputs": [
    {
     "data": {
      "text/plain": [
       "'Go until jurong point, crazy.. Available only in bugis n great world la e buffet... Cine there got amore wat...'"
      ]
     },
     "execution_count": 15,
     "metadata": {},
     "output_type": "execute_result"
    }
   ],
   "source": [
    "messages['message'][0]"
   ]
  },
  {
   "cell_type": "code",
   "execution_count": 16,
   "metadata": {},
   "outputs": [
    {
     "data": {
      "text/plain": [
       "5169"
      ]
     },
     "execution_count": 16,
     "metadata": {},
     "output_type": "execute_result"
    }
   ],
   "source": [
    "len(messages)"
   ]
  },
  {
   "cell_type": "code",
   "execution_count": 17,
   "metadata": {},
   "outputs": [],
   "source": [
    "corpus = []\n",
    "for i in range(0, len(messages)):\n",
    "    review = re.sub('[^a-zA-Z]', ' ', messages['message'][i])\n",
    "    review = review.lower()\n",
    "    review = review.split()\n",
    "    \n",
    "    review = [ps.stem(word) for word in review if not word in stopwords.words('english')]\n",
    "    review = ' '.join(review)\n",
    "    corpus.append(review)"
   ]
  },
  {
   "cell_type": "code",
   "execution_count": 18,
   "metadata": {},
   "outputs": [
    {
     "data": {
      "text/plain": [
       "['go jurong point crazi avail bugi n great world la e buffet cine got amor wat',\n",
       " 'ok lar joke wif u oni',\n",
       " 'free entri wkli comp win fa cup final tkt st may text fa receiv entri question std txt rate c appli',\n",
       " 'u dun say earli hor u c alreadi say',\n",
       " 'nah think goe usf live around though',\n",
       " 'freemsg hey darl week word back like fun still tb ok xxx std chg send rcv',\n",
       " 'even brother like speak treat like aid patent',\n",
       " 'per request mell mell oru minnaminungint nurungu vettam set callertun caller press copi friend callertun',\n",
       " 'winner valu network custom select receivea prize reward claim call claim code kl valid hour',\n",
       " 'mobil month u r entitl updat latest colour mobil camera free call mobil updat co free',\n",
       " 'gonna home soon want talk stuff anymor tonight k cri enough today',\n",
       " 'six chanc win cash pound txt csh send cost p day day tsandc appli repli hl info',\n",
       " 'urgent week free membership prize jackpot txt word claim c www dbuk net lccltd pobox ldnw rw',\n",
       " 'search right word thank breather promis wont take help grant fulfil promis wonder bless time',\n",
       " 'date sunday',\n",
       " 'xxxmobilemovieclub use credit click wap link next txt messag click http wap xxxmobilemovieclub com n qjkgighjjgcbl',\n",
       " 'oh k watch',\n",
       " 'eh u rememb spell name ye v naughti make v wet',\n",
       " 'fine way u feel way gota b',\n",
       " 'england v macedonia dont miss goal team news txt ur nation team eg england tri wale scotland txt poboxox w wq',\n",
       " 'serious spell name',\n",
       " 'go tri month ha ha joke',\n",
       " 'pay first lar da stock comin',\n",
       " 'aft finish lunch go str lor ard smth lor u finish ur lunch alreadi',\n",
       " 'ffffffffff alright way meet sooner',\n",
       " 'forc eat slice realli hungri tho suck mark get worri know sick turn pizza lol',\n",
       " 'lol alway convinc',\n",
       " 'catch bu fri egg make tea eat mom left dinner feel love',\n",
       " 'back amp pack car let know room',\n",
       " 'ahhh work vagu rememb feel like lol',\n",
       " 'wait still clear sure sarcast x want live us',\n",
       " 'yeah got v apologet n fallen actin like spoilt child got caught till go badli cheer',\n",
       " 'k tell anyth',\n",
       " 'fear faint housework quick cuppa',\n",
       " 'thank subscript rington uk mobil charg month pleas confirm repli ye repli charg',\n",
       " 'yup ok go home look time msg xuhui go learn nd may lesson',\n",
       " 'oop let know roommat done',\n",
       " 'see letter b car',\n",
       " 'anyth lor u decid',\n",
       " 'hello saturday go text see decid anyth tomo tri invit anyth',\n",
       " 'pl go ahead watt want sure great weekend abiola',\n",
       " 'forget tell want need crave love sweet arabian steed mmmmmm yummi',\n",
       " 'rodger burn msg tri call repli sm free nokia mobil free camcord pleas call deliveri tomorrow',\n",
       " 'see',\n",
       " 'great hope like man well endow lt gt inch',\n",
       " 'call messag miss call',\n",
       " 'get hep b immunis nigeria',\n",
       " 'fair enough anyth go',\n",
       " 'yeah hope tyler could mayb ask around bit',\n",
       " 'u know stubborn even want go hospit kept tell mark weak sucker hospit weak sucker',\n",
       " 'think first time saw class',\n",
       " 'gram usual run like lt gt half eighth smarter though get almost whole second gram lt gt',\n",
       " 'k fyi x ride earli tomorrow morn crash place tonight',\n",
       " 'wow never realiz embarass accomod thought like sinc best could alway seem happi cave sorri give sorri offer sorri room embarass',\n",
       " 'sm ac sptv new jersey devil detroit red wing play ice hockey correct incorrect end repli end sptv',\n",
       " 'know mallika sherawat yesterday find lt url gt',\n",
       " 'congrat year special cinema pass call c suprman v matrix starwar etc free bx ip pm dont miss',\n",
       " 'sorri call later meet',\n",
       " 'tell reach',\n",
       " 'ye gauti sehwag odi seri',\n",
       " 'gonna pick burger way home even move pain kill',\n",
       " 'ha ha ha good joke girl situat seeker',\n",
       " 'part check iq',\n",
       " 'sorri roommat took forev ok come',\n",
       " 'ok lar doubl check wif da hair dresser alreadi said wun cut v short said cut look nice',\n",
       " 'valu custom pleas advis follow recent review mob award bonu prize call',\n",
       " 'today song dedic day song u dedic send ur valuabl frnd first rpli',\n",
       " 'urgent ur award complimentari trip eurodisinc trav aco entri claim txt di morefrmmob shracomorsglsuplt ls aj',\n",
       " 'hear new divorc barbi come ken stuff',\n",
       " 'plane give month end',\n",
       " 'wah lucki man save money hee',\n",
       " 'finish class',\n",
       " 'hi babe im home wanna someth xx',\n",
       " 'k k perform',\n",
       " 'u call',\n",
       " 'wait machan call free',\n",
       " 'that cool gentleman treat digniti respect',\n",
       " 'like peopl much shi pa',\n",
       " 'oper lt gt',\n",
       " 'still look job much ta earn',\n",
       " 'sorri call later',\n",
       " 'k call ah',\n",
       " 'ok way home hi hi',\n",
       " 'place man',\n",
       " 'yup next stop',\n",
       " 'call later network urgnt sm',\n",
       " 'real u get yo need ticket one jacket done alreadi use multi',\n",
       " 'ye start send request make pain came back back bed doubl coin factori gotta cash nitro',\n",
       " 'realli still tonight babe',\n",
       " 'ela kano il download come wen ur free',\n",
       " 'yeah stand close tho catch someth',\n",
       " 'sorri pain ok meet anoth night spent late afternoon casualti mean done stuff moro includ time sheet sorri',\n",
       " 'smile pleasur smile pain smile troubl pour like rain smile sum hurt u smile becoz someon still love see u smile',\n",
       " 'pleas call custom servic repres pm guarante cash prize',\n",
       " 'havent plan buy later check alreadi lido got show e afternoon u finish work alreadi',\n",
       " 'free rington wait collect simpli text password mix verifi get usher britney fml po box mk h ppw',\n",
       " 'watch telugu movi wat abt u',\n",
       " 'see finish load loan pay',\n",
       " 'hi wk ok hol ye bit run forgot hairdress appoint four need get home n shower beforehand caus prob u',\n",
       " 'see cup coffe anim',\n",
       " 'pleas text anymor noth els say',\n",
       " 'okay name ur price long legal wen pick u ave x am xx',\n",
       " 'still look car buy gone drive test yet',\n",
       " 'wow right mean guess gave boston men chang search locat nyc someth chang cuz signin page still say boston',\n",
       " 'umma life vava umma love lot dear',\n",
       " 'thank lot wish birthday thank make birthday truli memor',\n",
       " 'aight hit get cash',\n",
       " 'would ip address test consid comput minecraft server',\n",
       " 'know grumpi old peopl mom like better lie alway one play joke',\n",
       " 'dont worri guess busi',\n",
       " 'plural noun research',\n",
       " 'go dinner msg',\n",
       " 'ok wif co like tri new thing scare u dun like mah co u said loud',\n",
       " 'gent tri contact last weekend draw show prize guarante call claim code k valid hr ppm',\n",
       " 'wa ur openin sentenc formal anyway fine juz tt eatin much n puttin weight haha anythin special happen',\n",
       " 'enter cabin pa said happi b day boss felt special askd lunch lunch invit apart went',\n",
       " 'winner u special select receiv holiday flight inc speak live oper claim p min',\n",
       " 'goodo ye must speak friday egg potato ratio tortilla need',\n",
       " 'hmm uncl inform pay school directli pl buy food',\n",
       " 'privat account statement show unredeem bonu point claim call identifi code expir',\n",
       " 'urgent mobil award bonu caller prize final tri contact u call landlin box wr c ppm',\n",
       " 'new address appl pair malarki',\n",
       " 'today voda number end select receiv award match pleas call quot claim code standard rate app',\n",
       " 'go sao mu today done',\n",
       " 'predict wat time finish buy',\n",
       " 'good stuff',\n",
       " 'know yetund sent money yet sent text bother send dont involv anyth impos anyth first place apologis',\n",
       " 'room',\n",
       " 'hey girl r u hope u r well del r bak long time c give call sum time lucyxx',\n",
       " 'k k much cost',\n",
       " 'home',\n",
       " 'dear call tmorrow pl accomod',\n",
       " 'first answer question',\n",
       " 'sunshin quiz wkli q win top soni dvd player u know countri algarv txt ansr sp tyron',\n",
       " 'want get laid tonight want real dog locat sent direct ur mob join uk largest dog network bt txting gravel nt ec p msg p',\n",
       " 'haf msn yiju hotmail com',\n",
       " 'call meet',\n",
       " 'check room befor activ',\n",
       " 'rcv msg chat svc free hardcor servic text go u get noth u must age verifi yr network tri',\n",
       " 'got c lazi type forgot lect saw pouch like v nice',\n",
       " 'k text way',\n",
       " 'sir wait mail',\n",
       " 'swt thought nver get tire littl thing lovabl person coz somtim littl thing occupi biggest part heart gud ni',\n",
       " 'know pl open back',\n",
       " 'ye see ya dot',\n",
       " 'what staff name take class us',\n",
       " 'freemsg repli text randi sexi femal live local luv hear u netcollex ltd p per msg repli stop end',\n",
       " 'ummma call check life begin qatar pl pray hard',\n",
       " 'k delet contact',\n",
       " 'sindu got job birla soft',\n",
       " 'wine flow never',\n",
       " 'yup thk cine better co need go plaza mah',\n",
       " 'ok ur typic repli',\n",
       " 'everywher dirt floor window even shirt sometim open mouth come flow dream world without half chore time joy lot tv show see guess like thing must exist like rain hail mist time done becom one',\n",
       " 'aaooooright work',\n",
       " 'leav hous',\n",
       " 'hello love get interview today happi good boy think miss',\n",
       " 'custom servic annonc new year deliveri wait pleas call arrang deliveri',\n",
       " 'winner u special select receiv cash holiday flight inc speak live oper claim',\n",
       " 'keep safe need miss alreadi envi everyon see real life',\n",
       " 'new car hous parent new job hand',\n",
       " 'love excit day spend make happi',\n",
       " 'pl stop bootydeli f invit friend repli ye see www sm ac u bootydeli stop send stop frnd',\n",
       " 'bangbab ur order way u receiv servic msg download ur content u goto wap bangb tv ur mobil internet servic menu',\n",
       " 'place ur point e cultur modul alreadi',\n",
       " 'urgent tri contact last weekend draw show prize guarante call claim code valid hr',\n",
       " 'hi frnd best way avoid missunderstd wit belov one',\n",
       " 'great escap fanci bridg need lager see tomo',\n",
       " 'ye complet form clark also utter wast',\n",
       " 'sir need axi bank account bank address',\n",
       " 'hmmm thk sure got time hop ard ya go free abt muz call u discuss liao',\n",
       " 'time come later',\n",
       " 'bloodi hell cant believ forgot surnam mr ill give u clue spanish begin',\n",
       " 'well gonna finish bath good fine night',\n",
       " 'let know got money carlo make call',\n",
       " 'u still go mall',\n",
       " 'turn friend stay whole show back til lt gt feel free go ahead smoke lt gt worth',\n",
       " 'text doesnt repli let know log',\n",
       " 'hi spoke maneesha v like know satisfi experi repli toll free ye',\n",
       " 'lift hope offer money need especi end month approach hurt studi anyway gr weekend',\n",
       " 'lol u trust',\n",
       " 'ok gentleman treat digniti respect',\n",
       " 'guy close',\n",
       " 'go noth great bye',\n",
       " 'hello handsom find job lazi work toward get back net mummi boytoy miss',\n",
       " 'haha awesom minut',\n",
       " 'pleas call custom servic repres freephon pm guarante cash prize',\n",
       " 'got xma radio time get',\n",
       " 'ju reach home go bath first si use net tell u finish k',\n",
       " 'uniqu enough find th august www areyouuniqu co uk',\n",
       " 'sorri join leagu peopl dont keep touch mean great deal friend time even great person cost great week',\n",
       " 'hi final complet cours',\n",
       " 'stop howev suggest stay someon abl give or everi stool',\n",
       " 'hope settl new school year wishin gr day',\n",
       " 'gud mrng dear hav nice day',\n",
       " 'u got person stori',\n",
       " 'hamster dead hey tmr meet pm orchard mrt',\n",
       " 'hi kate even hope see tomorrow bit bloodi babyjontet txt back u xxx',\n",
       " 'found enc lt gt',\n",
       " 'sent lt gt buck',\n",
       " 'hello darlin ive finish colleg txt u finish u love kate xxx',\n",
       " 'account refil success inr lt decim gt keralacircl prepaid account balanc rs lt decim gt transact id kr lt gt',\n",
       " 'goodmorn sleep ga',\n",
       " 'u call alter ok',\n",
       " 'say like dat dun buy ericsson oso cannot oredi lar',\n",
       " 'aight yo dat straight dogg',\n",
       " 'pleas give us connect today lt decim gt refund bill',\n",
       " 'shoot big load get readi',\n",
       " 'bruv hope great break reward semest',\n",
       " 'home alway chat',\n",
       " 'k k good studi well',\n",
       " 'yup noe leh',\n",
       " 'sound great home',\n",
       " 'final match head toward draw predict',\n",
       " 'tire slept well past night',\n",
       " 'easi ah sen got select mean good',\n",
       " 'take exam march',\n",
       " 'yeah think use gt atm regist sure anyway help let know sure readi',\n",
       " 'ok prob take ur time',\n",
       " 'os call ubandu run without instal hard disk use os copi import file system give repair shop',\n",
       " 'u say leh cours noth happen lar say v romant ju bit lor thk e nite sceneri nice leh',\n",
       " 'new mobil must go txt nokia collect today www tc biz optout gbp mtmsg',\n",
       " 'would realli appreci call need someon talk',\n",
       " 'u meet ur dream partner soon ur career flyng start find free txt horo follow ur star sign e g horo ari',\n",
       " 'hey compani elama po mudyadhu',\n",
       " 'life strict teacher bcoz teacher teach lesson amp conduct exam life first conduct exam amp teach lesson happi morn',\n",
       " 'dear good morn',\n",
       " 'get gandhipuram walk cross cut road right side lt gt street road turn first right',\n",
       " 'dear go rubber place',\n",
       " 'sorri batteri die yeah',\n",
       " 'ye tv alway avail work place',\n",
       " 'text meet someon sexi today u find date even flirt u join p repli name age eg sam msg recd thirtyeight penc',\n",
       " 'print oh lt gt come upstair',\n",
       " 'ill littl closer like bu stop street',\n",
       " 'wil reach',\n",
       " 'new theori argument win situat lose person dont argu ur friend kick amp say alway correct',\n",
       " 'u secret admir look make contact u find r reveal think ur special call',\n",
       " 'tomarrow final hear laptop case cant',\n",
       " 'pleassssssseeeee tel v avent done sportsx',\n",
       " 'okay shine meant sign sound better',\n",
       " 'although told u dat baig face watch realli like e watch u gave co fr u thanx everyth dat u done today touch',\n",
       " 'u rememb old commerci',\n",
       " 'late said websit dont slipper',\n",
       " 'ask call ok',\n",
       " 'kalli wont bat nd inning',\n",
       " 'didnt work oh ok goodnight fix readi time wake dearli miss good night sleep',\n",
       " 'congratul ur award cd voucher gift guarante free entri wkli draw txt music tnc www ldew com win ppmx age',\n",
       " 'ranjith cal drpd deeraj deepak min hold',\n",
       " 'wen ur lovabl bcum angri wid u dnt take serious coz angri childish n true way show deep affect care n luv kettoda manda nice day da',\n",
       " '',\n",
       " 'up day also ship compani take wk way usp take week get lag may bribe nipost get stuff',\n",
       " 'back lemm know readi',\n",
       " 'necessarili expect done get back though headin',\n",
       " 'mmm yummi babe nice jolt suzi',\n",
       " 'lover need',\n",
       " 'tri contact repli offer video handset anytim network min unlimit text camcord repli call',\n",
       " 'park next mini come today think',\n",
       " 'yup',\n",
       " 'anyway go shop co si done yet dun disturb u liao',\n",
       " 'luton ring ur around h',\n",
       " 'hey realli horni want chat see nake text hot text charg pm unsubscrib text stop',\n",
       " 'dint come us',\n",
       " 'wana plan trip sometm',\n",
       " 'sure yet still tri get hold',\n",
       " 'ur rington servic chang free credit go club mobil com choos content stop txt club stop p wk club po box mk wt',\n",
       " 'evo download flash jealou',\n",
       " 'rington club get uk singl chart mobil week choos top qualiti rington messag free charg',\n",
       " 'come mu sort narcot situat',\n",
       " 'night end anoth day morn come special way may smile like sunni ray leav worri blue blue bay',\n",
       " 'hmv bonu special pound genuin hmv voucher answer easi question play send hmv info www percent real com',\n",
       " 'usf guess might well take car',\n",
       " 'object bf come',\n",
       " 'thanx',\n",
       " 'tell rob mack gf theater',\n",
       " 'awesom see bit',\n",
       " 'sent type food like',\n",
       " 'done hand celebr full swing yet',\n",
       " 'got call tool',\n",
       " 'wen u miss someon person definit special u person special miss keep touch gdeve',\n",
       " 'ok ask money far',\n",
       " 'oki',\n",
       " 'yeah think usual guy still pass last night get ahold anybodi let know throw',\n",
       " 'k might come tonight class let earli',\n",
       " 'ok',\n",
       " 'hi babi im cruisin girl friend r u give call hour home that alright fone fone love jenni xxx',\n",
       " 'life mean lot love life love peopl life world call friend call world ge',\n",
       " 'dear shall mail tonit busi street shall updat tonit thing look ok varunnathu edukkukaye raksha ollu good one real sens',\n",
       " 'hey told name gautham ah',\n",
       " 'haf u found feel stupid da v cam work',\n",
       " 'oop got bit',\n",
       " 'much buzi',\n",
       " 'accident delet messag resend pleas',\n",
       " 'mobil custom may claim free camera phone upgrad pay go sim card loyalti call offer end thfeb c appli',\n",
       " 'unless situat go gurl would appropri',\n",
       " 'hurt teas make cri end life die plz keep one rose grave say stupid miss u nice day bslvyl',\n",
       " 'cant pick phone right pl send messag',\n",
       " 'need coffe run tomo believ time week alreadi',\n",
       " 'awesom rememb last time got somebodi high first time diesel v',\n",
       " 'shit realli shock scari cant imagin second def night u think somewher could crash night save taxi',\n",
       " 'oh way food fridg want go meal tonight',\n",
       " 'womdarful actor',\n",
       " 'sm ac blind date u rodd aberdeen unit kingdom check http img sm ac w icmb cktz r blind date send hide',\n",
       " 'yup remb think book',\n",
       " 'jo ask u wana meet',\n",
       " 'lol ye friendship hang thread caus u buy stuff',\n",
       " 'themob check newest select content game tone gossip babe sport keep mobil fit funki text wap',\n",
       " 'garag key bookshelf',\n",
       " 'today accept day u accept brother sister lover dear best clo lvblefrnd jstfrnd cutefrnd lifpartnr belovd swtheart bstfrnd rpli mean enemi',\n",
       " 'think ur smart win week weekli quiz text play cs winnersclub po box uz gbp week',\n",
       " 'say give call friend got money definit buy end week',\n",
       " 'hi way u day normal way real ur uniqu hope know u rest mylif hope u find wot lost',\n",
       " 'made day great day',\n",
       " 'k k advanc happi pongal',\n",
       " 'hmmm guess go kb n power yoga haha dunno tahan power yoga anot thk got lo oso forgot liao',\n",
       " 'realli dude friend afraid',\n",
       " 'decemb mobil mth entitl updat latest colour camera mobil free call mobil updat co free',\n",
       " 'coffe cake guess',\n",
       " 'merri christma babe love ya kiss',\n",
       " 'hey dont go watch x men lunch haha',\n",
       " 'cud u tell ppl im gona b bit l co buse hav gon past co full im still waitin pete x',\n",
       " 'would great guild could meet bristol road somewher get touch weekend plan take flight good week',\n",
       " 'problem',\n",
       " 'hi da today class',\n",
       " 'say good sign well know track record read women',\n",
       " 'cool text park',\n",
       " 'read text sent meant joke read light',\n",
       " 'k k apo k good movi',\n",
       " 'mayb could get book tomo return immedi someth',\n",
       " 'call germani penc per minut call fix line via access number prepay direct access',\n",
       " 'chanc might evapor soon violat privaci steal phone number employ paperwork cool pleas contact report supervisor',\n",
       " 'valentin day special win quiz take partner trip lifetim send go p msg rcvd custcar',\n",
       " 'ta daaaaa home babe still',\n",
       " 'cool come havent wine dine',\n",
       " 'sleep surf',\n",
       " 'u call right call hand phone',\n",
       " 'ok great thanx lot',\n",
       " 'take post come must text happi read one wiv hello carolin end favourit bless',\n",
       " 'u hide stranger',\n",
       " 'interest like',\n",
       " 'sister clear two round birla soft yesterday',\n",
       " 'gudnit tc practic go',\n",
       " 'di yiju ju saw ur mail case huim havent sent u num di num',\n",
       " 'one small prestig problem',\n",
       " 'fanci shag interest sextextuk com txt xxuk suzi txt cost per msg tnc websit x',\n",
       " 'check realli miss see jeremiah great month',\n",
       " 'nah help never iphon',\n",
       " 'car hour half go apeshit',\n",
       " 'today sorri day ever angri ever misbehav hurt plz plz slap urself bcoz ur fault basic good',\n",
       " 'yo guy ever figur much need alcohol jay tri figur much safe spend weed',\n",
       " 'lt gt ish minut minut ago wtf',\n",
       " 'thank call forgot say happi onam sirji fine rememb met insur person meet qatar insha allah rakhesh ex tata aig join tissco tayseer',\n",
       " 'ur cash balanc current pound maxim ur cash send cash p msg cc hg suit land row w j hl',\n",
       " 'actor work work even sleep late sinc unemploy moment alway sleep late unemploy everi day saturday',\n",
       " 'hello got st andrew boy long way cold keep post',\n",
       " 'ha ha cool cool chikku chikku db',\n",
       " 'oh ok prob',\n",
       " 'check audrey statu right',\n",
       " 'busi tri finish new year look forward final meet',\n",
       " 'good afternoon sunshin dawn day refresh happi aliv breath air smile think love alway',\n",
       " 'well know z take care worri',\n",
       " 'updat xma offer latest motorola sonyericsson nokia free bluetooth doubl min txt orang call mobileupd call optout f q',\n",
       " 'discount code rp stop messag repli stop www regalportfolio co uk custom servic',\n",
       " 'wat uniform get',\n",
       " 'cool text readi',\n",
       " 'hello boytoy geeee miss alreadi woke wish bed cuddl love',\n",
       " 'spoil bed well',\n",
       " 'go bath msg next lt gt min',\n",
       " 'cant keep talk peopl sure pay agre price pl tell want realli buy much will pay',\n",
       " 'thank rington order refer charg gbp per week unsubscrib anytim call custom servic',\n",
       " 'say happen',\n",
       " 'could seen recognis face',\n",
       " 'well lot thing happen lindsay new year sigh bar ptbo blue heron someth go',\n",
       " 'keep payasam rinu bring',\n",
       " 'taught ranjith sir call sm like becau he verifi project prabu told today pa dont mistak',\n",
       " 'guess worri must know way bodi repair quit sure worri take slow first test guid ovul relax noth said reason worri keep followin',\n",
       " 'yeah sure give coupl minut track wallet',\n",
       " 'hey leav big deal take care',\n",
       " 'hey late ah meet',\n",
       " 'doubl min txt month free bluetooth orang avail soni nokia motorola phone call mobileupd call optout n dx',\n",
       " 'took mr owl lick',\n",
       " 'custom place call',\n",
       " 'mm time dont like fun',\n",
       " 'mth half price orang line rental latest camera phone free phone mth call mobilesdirect free updat stoptxt',\n",
       " 'yup lunch buffet u eat alreadi',\n",
       " 'huh late fr dinner',\n",
       " 'hey sat go intro pilat kickbox',\n",
       " 'morn ok',\n",
       " 'ye think offic lap room think that last day didnt shut',\n",
       " 'pick bout ish time go',\n",
       " 'perform award calcul everi two month current one month period',\n",
       " 'actual sleep still might u call back text gr rock si send u text wen wake',\n",
       " 'alway put busi put pictur ass facebook one open peopl ever met would think pictur room would hurt make feel violat',\n",
       " 'good even sir al salam wahleykkum share happi news grace god got offer tayseer tissco join hope fine inshah allah meet sometim rakhesh visitor india',\n",
       " 'hmmm k want chang field quickli da wanna get system administr network administr',\n",
       " 'free rington text first poli text get true tone help st free tone x pw e nd txt stop',\n",
       " 'dear chechi talk',\n",
       " 'hair cream ship',\n",
       " 'none happen til get though',\n",
       " 'yep great loxahatche xma tree burn lt gt start hour',\n",
       " 'haha get use drive usf man know lot stoner',\n",
       " 'well slightli disastr class pm fav darl hope day ok coffe wld good stay late tomorrow time place alway',\n",
       " 'hello good week fanci drink someth later',\n",
       " 'headin toward busetop',\n",
       " 'messag text miss sender name miss number miss sent date miss miss u lot that everyth miss sent via fullonsm com',\n",
       " 'come room point iron plan weekend',\n",
       " 'co want thing',\n",
       " 'oki go yan jiu skip ard oso go cine den go mrt one blah blah blah',\n",
       " 'bring home wendi',\n",
       " 'date servic cal l box sk ch',\n",
       " 'whatsup dont u want sleep',\n",
       " 'alright new goal',\n",
       " 'free entri weekli competit text word win c www txttowin co uk',\n",
       " 'alright head minut text meet',\n",
       " 'send logo ur lover name join heart txt love name name mobno eg love adam eve yahoo pobox w wq txtno ad p',\n",
       " 'ye last week take live call',\n",
       " 'someon contact date servic enter phone fanci find call landlin pobox n tf p',\n",
       " 'siva hostel aha',\n",
       " 'urgent mobil number award prize guarante call land line claim valid hr',\n",
       " 'send ur friend receiv someth ur voic speak express childish naughti sentiment rowdi ful attitud romant shi attract funni lt gt irrit lt gt lovabl repli',\n",
       " 'ok ok guess',\n",
       " 'aathi dear',\n",
       " 'pain urin thing els',\n",
       " 'esplanad mind give lift co got car today',\n",
       " 'wnt buy bmw car urgent vri urgent hv shortag lt gt lac sourc arng di amt lt gt lac that prob',\n",
       " 'home watch tv lor',\n",
       " 'usual take fifteen fuck minut respond ye question',\n",
       " 'congrat nokia video camera phone call call cost ppm ave call min vari mobil close post bcm ldn wc n xx',\n",
       " 'book ticket pongal',\n",
       " 'avail like right around hillsborough amp lt gt th',\n",
       " 'messag sent askin lt gt dollar shoul pay lt gt lt gt',\n",
       " 'ask g iouri told stori like ten time alreadi',\n",
       " 'long applebe fuck take',\n",
       " 'hi hope u get txt journey hasnt gd min late think',\n",
       " 'like love arrang',\n",
       " 'ye realli great bhaji told kalli best cricket sachin world tough get',\n",
       " 'suppos wake gt',\n",
       " 'oic saw tot din c found group liao',\n",
       " 'hey hey wereth monkeespeopl say monkeyaround howdi gorgeou howu doin foundurself jobyet sausag love jen xxx',\n",
       " 'sorri batteri die come get gram place',\n",
       " 'well done blimey exercis yeah kinda rememb wot hmm',\n",
       " 'wont get concentr dear know mind everyth',\n",
       " 'lol made plan new year',\n",
       " 'min later k',\n",
       " 'hank lotsli',\n",
       " 'thank hope good day today',\n",
       " 'k k detail want transfer acc enough',\n",
       " 'ok tell stay yeah tough optimist thing improv month',\n",
       " 'loan purpos homeown tenant welcom previous refus still help call free text back help',\n",
       " 'si si think ill go make oreo truffl',\n",
       " 'look ami ure beauti intellig woman like u lot know u like like worri',\n",
       " 'hope result consist intellig kind start ask practicum link keep ear open best ttyl',\n",
       " 'call cost guess isnt bad miss ya need ya want ya love ya',\n",
       " 'go thru differ feel waver decis cope individu time heal everyth believ',\n",
       " 'u go phone gonna die stay',\n",
       " 'great never better day give even reason thank god',\n",
       " 'upgrdcentr orang custom may claim free camera phone upgrad loyalti call offer end th juli c appli opt avail',\n",
       " 'sorri call later ok bye',\n",
       " 'ok way railway',\n",
       " 'great princess love give receiv oral doggi style fave posit enjoy make love lt gt time per night',\n",
       " 'put stuff road keep get slipperi',\n",
       " 'go ride bike',\n",
       " 'yup need ju wait e rain stop',\n",
       " 'mani compani tell languag',\n",
       " 'okmail dear dave final notic collect tenerif holiday cash award call landlin tc sae box cw wx ppm',\n",
       " 'long sinc scream princess',\n",
       " 'noth meant money enter account bank remov flat rate someon transfer lt gt account lt gt dollar got remov bank differ charg also differ sure trust ja person send account detail co',\n",
       " 'want get laid tonight want real dog locat sent direct ur mob join uk largest dog network txting moan nyt ec p msg p',\n",
       " 'nice line said broken heart plz cum time infront wise trust u good',\n",
       " 'ok gonna head usf like fifteen minut',\n",
       " 'love aathi love u lot',\n",
       " 'tension ah machi problem',\n",
       " 'k pick anoth th done',\n",
       " 'guy get back g said think stay mcr',\n",
       " 'almost see u sec',\n",
       " 'yo carlo friend alreadi ask work weekend',\n",
       " 'watch tv lor',\n",
       " 'thank babi cant wait tast real thing',\n",
       " 'chang fb jaykwon thuglyf falconerf',\n",
       " 'win realli side long time',\n",
       " 'free messag activ free text messag repli messag word free term condit visit www com',\n",
       " 'dear reach railway happen',\n",
       " 'depend qualiti want type sent boy fade glori want ralph mayb',\n",
       " 'think fix send test messag',\n",
       " 'sorri man account dri would want could trade back half could buy shit credit card',\n",
       " 'congrat year special cinema pass call c suprman v matrix starwar etc free bx ip pm dont miss',\n",
       " 'sorri meet call later',\n",
       " 'class lt gt reunion',\n",
       " 'free call',\n",
       " 'got meh',\n",
       " 'nope think go monday sorri repli late',\n",
       " 'told accentur confirm true',\n",
       " 'kate jackson rec center ish right',\n",
       " 'dear reach room',\n",
       " 'fight world easi u either win lose bt fightng close u dificult u lose u lose u win u still lose',\n",
       " 'come',\n",
       " 'check nuerologist',\n",
       " 'lolnic went fish water',\n",
       " 'congratul week competit draw u prize claim call b cs stop sm ppm',\n",
       " 'wait e car dat bore wat co wait outsid got noth home stuff watch tv wat',\n",
       " 'mayb westshor hyde park villag place near hous',\n",
       " 'know anthoni bring money school fee pay rent stuff like that need help friend need',\n",
       " 'signific',\n",
       " 'opinion jada kusruthi lovabl silent spl charact matur stylish simpl pl repli',\n",
       " 'latest g still scroung ammo want give new ak tri',\n",
       " 'prabha soryda reali frm heart sori',\n",
       " 'lol ok forgiven',\n",
       " 'jst chang tat',\n",
       " 'guarante latest nokia phone gb ipod mp player prize txt word collect ibhltd ldnw h p mtmsgrcvd',\n",
       " 'competit',\n",
       " 'boltblu tone p repli poli mono eg poli cha cha slide yeah slow jamz toxic come stop tone txt',\n",
       " 'credit top http www bubbletext com renew pin tgxxrz',\n",
       " 'way transport less problemat sat night way u want ask n join bday feel free need know definit no book fri',\n",
       " 'usual person unconsci children adult may behav abnorm call',\n",
       " 'ebay might less elsewher',\n",
       " 'shall come get pickl',\n",
       " 'gonna go get taco',\n",
       " 'rude campu',\n",
       " 'urgent mobil award bonu caller prize nd attempt contact call box qu',\n",
       " 'hi b ard christma enjoy n merri x ma',\n",
       " 'today offer claim ur worth discount voucher text ye savamob member offer mobil cs sub unsub repli x',\n",
       " 'ye pretti ladi like singl',\n",
       " 'reciev tone within next hr term condit pleas see channel u teletext pg',\n",
       " 'jay say doubl faggot',\n",
       " 'privat account statement show un redeem point call identifi code expir',\n",
       " 'today sunday sunday holiday work',\n",
       " 'late',\n",
       " 'call hope l r malaria know miss guy miss bani big pl give love especi great day',\n",
       " 'good afternoon love goe day hope mayb got lead job think boytoy send passion kiss across sea',\n",
       " 'probabl gonna see later tonight lt',\n",
       " 'mayb fat finger press button know',\n",
       " 'ummmmmaah mani mani happi return day dear sweet heart happi birthday dear',\n",
       " 'tirupur da start offic call',\n",
       " 'www applausestor com monthlysubscript p msg max month csc web age stop txt stop',\n",
       " 'famou quot develop abil listen anyth uncondit without lose temper self confid mean marri',\n",
       " 'go colleg pa els ill come self pa',\n",
       " 'oclock mine bash flat plan',\n",
       " 'girl stay bed girl need recoveri time id rather pass fun coop bed',\n",
       " 'special',\n",
       " 'know need get hotel got invit apologis cali sweet come english bloke weddin',\n",
       " 'sorri took long omw',\n",
       " 'wait lt gt min',\n",
       " 'ok give minut think see btw alibi cut hair whole time',\n",
       " 'imagin final get sink bath put pace mayb even eat left also imagin feel cage cock surround bath water remind alway own enjoy cuck',\n",
       " 'hurri weed defici like three day',\n",
       " 'sure get acknowledg astoundingli tactless gener faggi demand blood oath fo',\n",
       " 'ok everi night take warm bath drink cup milk see work magic still need loos weight know',\n",
       " 'look fri pan case cheap book perhap silli fri pan like book',\n",
       " 'well uv caus mutat sunscreen like essenti theseday',\n",
       " 'lunch onlin',\n",
       " 'know friend alreadi told',\n",
       " 'hi princess thank pic pretti',\n",
       " 'aiyo u alway c ex one dunno abt mei repli first time u repli fast lucki workin huh got bao ur sugardad ah gee',\n",
       " 'hi msg offic',\n",
       " 'thanx e browni v nice',\n",
       " 'geeeee love much bare stand',\n",
       " 'gent tri contact last weekend draw show prize guarante call claim code k valid hr ppm',\n",
       " 'fuck babe miss alreadi know let send money toward net need want crave',\n",
       " 'ill call u mrw ninish address icki american freek wont stop callin bad jen k eh',\n",
       " 'oooh bed ridden ey think',\n",
       " 'anyway go gym whatev love smile hope ok good day babe miss much alreadi',\n",
       " 'love daddi make scream pleasur go slap ass dick',\n",
       " 'wot u wanna missi',\n",
       " 'yar lor wait mum finish sch lunch lor whole morn stay home clean room room quit clean hee',\n",
       " 'know lab goggl went',\n",
       " 'open door',\n",
       " 'wait call',\n",
       " 'nope wait sch daddi',\n",
       " 'cash prize claim call',\n",
       " 'tire argu week week want',\n",
       " 'wait sch finish ard',\n",
       " 'mobil number claim call us back ring claim hot line',\n",
       " 'arngd marriag u r walkin unfortuntli snake bite u bt love marriag danc frnt snake amp sayin bite bite',\n",
       " 'huh earli dinner outsid izzit',\n",
       " 'ok anyway need chang said',\n",
       " 'tri contact repli offer min textand new video phone call repli free deliveri tomorrow',\n",
       " 'ex wife abl kid want kid one day',\n",
       " 'scotland hope show jjc tendenc take care live dream',\n",
       " 'tell u headach want use hour sick time',\n",
       " 'dun thk quit yet hmmm go jazz yogasana oso go meet em lesson den',\n",
       " 'pete pleas ring meiv hardli gotani credit',\n",
       " 'ya srsli better yi tho',\n",
       " 'meet call later',\n",
       " 'ur chanc win wkli shop spree txt shop c www txt shop com custcar x p wk',\n",
       " 'special select receiv pound award call line close cost ppm cs appli ag promo',\n",
       " 'privat account statement show un redeem point call identifi code expir',\n",
       " 'still grand prix',\n",
       " 'met stranger choos friend long world stand friendship never end let friend forev gud nitz',\n",
       " 'great',\n",
       " 'gud mrng dear nice day',\n",
       " 'import custom servic announc call freephon',\n",
       " 'exhaust train morn much wine pie sleep well',\n",
       " 'go buy mum present ar',\n",
       " 'mind blastin tsunami occur rajnik stop swim indian ocean',\n",
       " 'u send home first ok lor readi yet',\n",
       " 'speak cash yet',\n",
       " 'happi come noon',\n",
       " 'meet lunch la',\n",
       " 'take care n get well soon',\n",
       " 'xclusiv clubsaisai morow soire special zouk nichol pari free rose ladi info',\n",
       " 'meant say cant wait see u get bore bridgwat banter',\n",
       " 'neva mind ok',\n",
       " 'fine imma get drink somethin want come find',\n",
       " 'day kick euro u kept date latest news result daili remov send get txt stop',\n",
       " 'valentin game send di msg ur friend answer r someon realli love u que colour suit best rpli',\n",
       " 'mani depend',\n",
       " 'thanx today cer nice catch ave find time often oh well take care c u soon c',\n",
       " 'call said choos futur',\n",
       " 'happi valentin day know earli hundr handsom beauti wish thought finish aunti uncl st',\n",
       " 'like v shock leh co tell shuhui like tell leona also like dat almost know liao got ask abt ur reaction lor',\n",
       " 'famili happi',\n",
       " 'come n pick come immedi aft ur lesson',\n",
       " 'let snow let snow kind weather bring ppl togeth friendship grow',\n",
       " 'dear got lt gt dollar hi hi',\n",
       " 'good word word may leav u dismay mani time',\n",
       " 'make sure alex know birthday fifteen minut far concern',\n",
       " 'sorri got thing may pub later',\n",
       " 'nah straight bring bud drink someth actual littl use straight cash',\n",
       " 'haha good hear offici paid market th',\n",
       " 'mani lick take get center tootsi pop',\n",
       " 'yup thk r e teacher said make face look longer darren ask cut short',\n",
       " 'new textbuddi chat horni guy ur area p free receiv search postcod gaytextbuddi com txt one name',\n",
       " 'today vodafon number end select receiv award number match call receiv award',\n",
       " 'pleas dont say like hi hi hi',\n",
       " 'thank u',\n",
       " 'oh forward messag thought send',\n",
       " 'got seventeen pound seven hundr ml hope ok',\n",
       " 'dear voucher holder claim week offer pc go http www e tlp co uk expressoff ts cs appli stop text txt stop',\n",
       " 'n funni',\n",
       " 'sweetheart hope kind day one load reason smile biola',\n",
       " 'login dat time dad fetch home',\n",
       " 'shower babi',\n",
       " 'askd u question hour answer',\n",
       " 'well imma definit need restock thanksgiv let know',\n",
       " 'said kiss kiss sound effect gorgeou man kind person need smile brighten day',\n",
       " 'probabl gonna swing wee bit',\n",
       " 'ya nice readi thursday',\n",
       " 'allo brave buse taken train triumph mean b ham jolli good rest week',\n",
       " 'watch cartoon listen music amp eve go templ amp church u',\n",
       " 'mind ask happen dont say uncomfort',\n",
       " 'privat account statement show un redeem point call identifi code expir',\n",
       " 'prob send email',\n",
       " 'cash prize claim call c rstm sw ss ppm',\n",
       " 'that cool sometim slow gentl sonetim rough hard',\n",
       " 'gonna say sorri would normal start panic time sorri see tuesday',\n",
       " 'wait know wesley town bet hella drug',\n",
       " 'fine miss much',\n",
       " 'tell drug dealer get impati',\n",
       " 'sun cant come earth send luv ray cloud cant come river send luv rain cant come meet u send care msg u gud evng',\n",
       " 'doesnt make sens take unless free need know wikipedia com',\n",
       " 'premium phone servic call',\n",
       " 'sea lay rock rock envelop envelop paper paper word',\n",
       " 'mum repent',\n",
       " 'sorri go home first daddi come fetch later',\n",
       " 'leav de start prepar next',\n",
       " 'ye babi studi posit kama sutra',\n",
       " 'en chikku nang bakra msg kalstiya tea coffe',\n",
       " 'carlo minut still need buy',\n",
       " 'pay lt decim gt lakh',\n",
       " 'good even ttyl',\n",
       " 'u receiv msg',\n",
       " 'ho ho big belli laugh see ya tomo',\n",
       " 'sm ac sun post hello seem cool want say hi hi stop send stop',\n",
       " 'get ur st rington free repli msg tone gr top tone phone everi week per wk opt send stop',\n",
       " 'ditto worri say anyth anymor like said last night whatev want peac',\n",
       " 'got lt gt way could pick',\n",
       " 'dont knw pa drink milk',\n",
       " 'mayb say hi find got card great escap wetherspoon',\n",
       " 'piggi r u awak bet u still sleep go lunch',\n",
       " 'caus freaki lol',\n",
       " 'miss call caus yell scrappi miss u wait u come home lone today',\n",
       " 'hex place talk explain',\n",
       " 'log wat sdryb',\n",
       " 'xy go e lunch',\n",
       " 'hi sue year old work lapdanc love sex text live bedroom text sue textoper g da ppmsg',\n",
       " 'want ask wait finish lect co lect finish hour anyway',\n",
       " 'finish work yet',\n",
       " 'everi king cri babi everi great build map imprtant u r today u wil reach tomorw gud ni',\n",
       " 'dear cherthala case u r come cochin pl call bfore u start shall also reach accordingli tell day u r come tmorow engag an holiday',\n",
       " 'thank love torch bold',\n",
       " 'forward pleas call immedi urgent messag wait',\n",
       " 'farm open',\n",
       " 'sorri troubl u buy dad big small sat n sun thanx',\n",
       " 'sister law hope great month say hey abiola',\n",
       " 'purchas stuff today mail po box number',\n",
       " 'ah poop look like ill prob send laptop get fix cuz gpu problem',\n",
       " 'good good job like entrepreneur',\n",
       " 'aight close still around alex place',\n",
       " 'meet corpor st outsid gap see mind work',\n",
       " 'mum ask buy food home',\n",
       " 'k u also dont msg repli msg',\n",
       " 'much r will pay',\n",
       " 'import prevent dehydr give enough fluid',\n",
       " 'that bit weird even suppos happen good idea sure pub',\n",
       " 'true dear sat pray even felt sm time',\n",
       " 'think get away trek long famili town sorri',\n",
       " 'wanna gym harri',\n",
       " 'quit late lar ard anyway wun b drivin',\n",
       " 'review keep fantast nokia n gage game deck club nokia go www cnupdat com newslett unsubscrib alert repli word',\n",
       " 'mth half price orang line rental latest camera phone free phone mth call mobilesdirect free updat stoptxt cs',\n",
       " 'height confid aeronaut professor wer calld amp wer askd sit aeroplan aftr sat wer told dat plane ws made student dey hurri plane bt didnt move said made student wont even start datz confid',\n",
       " 'seem like weird time night g want come smoke day shitstorm attribut alway come make everyon smoke',\n",
       " 'pm cost p',\n",
       " 'save stress person dorm account send account detail money sent',\n",
       " 'also know lunch menu da know',\n",
       " 'stuff sell tell',\n",
       " 'urgent nd attempt contact u u call b csbcm wc n xx callcost ppm mobilesvari max',\n",
       " 'book lesson msg call work sth go get spec membership px',\n",
       " 'guarante cash prize claim yr prize call custom servic repres pm',\n",
       " 'macha dont feel upset assum mindset believ one even wonder plan us let life begin call anytim',\n",
       " 'oh send address',\n",
       " 'fine anytim best',\n",
       " 'wondar full flim',\n",
       " 'ya even cooki jelli',\n",
       " 'world run still mayb feel admit mad correct let call life keep run world may u r also run let run',\n",
       " 'got look scrumptiou daddi want eat night long',\n",
       " 'co lar ba dao ok pm lor u never ask go ah said u would ask fri said u ask today',\n",
       " 'alright omw gotta chang order half th',\n",
       " 'exactli anyway far jide studi visit',\n",
       " 'dunno u ask',\n",
       " 'email alertfrom jeri stewarts kbsubject low cost prescripiton drvgsto listen email call',\n",
       " 'spring come earli yay',\n",
       " 'lol feel bad use money take steak dinner',\n",
       " 'even u dont get troubl convinc tel twice tel neglect msg dont c read dont repli',\n",
       " 'leav qatar tonit search opportun went fast pl add ur prayer dear rakhesh',\n",
       " 'one talk',\n",
       " 'thank look realli appreci',\n",
       " 'hi custom loyalti offer new nokia mobil txtauction txt word start get ctxt tc p mtmsg',\n",
       " 'wish',\n",
       " 'haha mayb u rite u know well da feel like someon gd lor u faster go find one gal group attach liao',\n",
       " 'ye glad made',\n",
       " 'well littl time thing good time ahead',\n",
       " 'got room soon put clock back til shout everyon get realis wahay anoth hour bed',\n",
       " 'ok may free gym',\n",
       " 'men like shorter ladi gaze eye',\n",
       " 'dunno ju say go lido time',\n",
       " 'promis take good care princess run pleas send pic get chanc ttyl',\n",
       " 'u subscrib best mobil content servic uk per day send stop helplin',\n",
       " 'reason spoken year anyway great week best exam',\n",
       " 'monday next week give full gist',\n",
       " 'realiz year thousand old ladi run around tattoo',\n",
       " 'import custom servic announc premier',\n",
       " 'dont gimm lip caveboy',\n",
       " 'get librari',\n",
       " 'reali sorri recognis number confus r u pleas',\n",
       " 'didnt holla',\n",
       " 'cant think anyon spare room top head',\n",
       " 'faith make thing possibl hope make thing work love make thing beauti may three christma merri christma',\n",
       " 'u made appoint',\n",
       " 'call carlo phone vibrat act might hear text',\n",
       " 'romant pari night flight book next year call ts cs appli',\n",
       " 'grandma oh dear u still ill felt shit morn think hungov anoth night leav sat',\n",
       " 'urgent ur guarante award still unclaim call closingd claimcod pmmorefrommobil bremov mobypobox ls yf',\n",
       " 'noth ju tot u would ask co u ba gua went mt faber yest yest ju went alreadi mah today go ju call lor',\n",
       " 'wish famili merri x ma happi new year advanc',\n",
       " 'ur award citi break could win summer shop spree everi wk txt store skilgm tsc winawk age perwksub',\n",
       " 'nt goin got somethin unless meetin dinner lor haha wonder go ti time',\n",
       " 'lol know dramat school alreadi close tomorrow appar drive inch snow suppos get',\n",
       " 'get anywher damn job hunt',\n",
       " 'lol u drunkard hair moment yeah still tonight wat plan',\n",
       " 'idc get weasel way shit twice row',\n",
       " 'wil lt gt minut got space',\n",
       " 'thank pick trash',\n",
       " 'go tell friend sure want live smoke much spend hour beg come smoke',\n",
       " 'hi kate love see tonight ill phone tomorrow got sing guy gave card xxx',\n",
       " 'happi new year dear brother realli miss got number decid send text wish happi abiola',\n",
       " 'mean get door',\n",
       " 'hmmm thought said hour slave late punish',\n",
       " 'beerag',\n",
       " 'import custom servic announc premier call freephon',\n",
       " 'dont think turn like randomlli within min open',\n",
       " 'suppos make still town though',\n",
       " 'time fix spell sometim get complet diff word go figur',\n",
       " 'ever thought live good life perfect partner txt back name age join mobil commun p sm',\n",
       " 'free top polyphon tone call nation rate get toppoli tune sent everi week text subpoli per pole unsub',\n",
       " 'hope enjoy game yesterday sorri touch pl know fondli bein thot great week abiola',\n",
       " 'e best ur drive tmr',\n",
       " 'u dogbreath sound like jan c al',\n",
       " 'omg want scream weigh lost weight woohoo',\n",
       " 'gener one uncount noun u dictionari piec research',\n",
       " 'realli get hang around',\n",
       " 'orang custom may claim free camera phone upgrad loyalti call offer end thmarch c appli opt availa',\n",
       " 'petey boy wherear friendsar thekingshead come canlov nic',\n",
       " 'ok msg u b leav hous',\n",
       " 'gimm lt gt minut ago',\n",
       " 'last chanc claim ur worth discount voucher today text shop savamob offer mobil cs savamob pobox uz sub',\n",
       " 'appt lt time gt fault u listen told u twice',\n",
       " 'free st week nokia tone ur mobil everi week txt nokia get txting tell ur mate www getz co uk pobox w wq norm p tone',\n",
       " 'guarante award even cashto claim ur award call free stop getstop php rg jx',\n",
       " 'k',\n",
       " 'dled imp',\n",
       " 'sure make sure know smokin yet',\n",
       " 'boooo alway work quit',\n",
       " 'take half day leav bec well',\n",
       " 'ugh wanna get bed warm',\n",
       " 'nervou lt gt',\n",
       " 'ring come guy costum gift futur yowif hint hint',\n",
       " 'congratul ur award either cd gift voucher free entri weekli draw txt music tnc www ldew com win ppmx age',\n",
       " 'borrow ur bag ok',\n",
       " 'u outbid simonwatson shinco dvd plyr bid visit sm ac smsreward end bid notif repli end',\n",
       " 'boytoy miss happen',\n",
       " 'lot use one babe model help youi bring match',\n",
       " 'also bring galileo dobbi',\n",
       " 'respond',\n",
       " 'boo babe u enjoyin yourjob u seem b gettin well hunni hope ure ok take care llspeak u soonlot lovem xxxx',\n",
       " 'good afternoon starshin boytoy crave yet ach fuck sip cappuccino miss babe teas kiss',\n",
       " 'road cant txt',\n",
       " 'smsservic yourinclus text credit pl goto www comuk net login qxj unsubscrib stop extra charg help comuk cm ae',\n",
       " 'p alfi moon children need song ur mob tell ur txt tone chariti nokia poli chariti poli zed profit chariti',\n",
       " 'hmm bit piec lol sigh',\n",
       " 'hahaha use brain dear',\n",
       " 'hey got mail',\n",
       " 'sorri light turn green meant anoth friend want lt gt worth may around',\n",
       " 'thank yesterday sir wonder hope enjoy burial mojibiola',\n",
       " 'u secret admir reveal think u r special call opt repli reveal stop per msg recd cust care',\n",
       " 'hi mate rv u hav nice hol messag say hello coz sent u age start drive stay road rvx',\n",
       " 'dear voucher holder claim week offer pc pleas go http www e tlp co uk expressoff ts cs appli stop text txt stop',\n",
       " 'thank much skype wit kz sura didnt get pleasur compani hope good given ultimatum oh countin aburo enjoy messag sent day ago',\n",
       " 'sure result offer',\n",
       " 'good morn dear great amp success day',\n",
       " 'want anytim network min text new video phone five pound per week call repli deliveri tomorrow',\n",
       " 'sir late pay rent past month pay lt gt charg felt would inconsider nag someth give great cost didnt speak howev recess wont abl pay charg month henc askin well ahead month end pleas help thank',\n",
       " 'tri contact offer new video phone anytim network min half price rental camcord call repli deliveri wed',\n",
       " 'last chanc claim ur worth discount voucher text ye savamob member offer mobil cs sub remov txt x stop',\n",
       " 'luv u soo much u understand special u r ring u morrow luv u xxx',\n",
       " 'pl send comprehens mail pay much',\n",
       " 'prashanthettan mother pass away last night pray famili',\n",
       " 'urgent call landlin complimentari ibiza holiday cash await collect sae cs po box sk wp ppm',\n",
       " 'k k go',\n",
       " 'meanwhil shit suit xavier decid give us lt gt second warn samantha come play jay guitar impress shit also think doug realiz live anymor',\n",
       " 'stomach thru much trauma swear eat better lose weight',\n",
       " 'offic what matter msg call break',\n",
       " 'yeah bare enough room two us x mani fuck shoe sorri man see later',\n",
       " 'u reach orchard alreadi u wan go buy ticket first',\n",
       " 'real babi want bring inner tigress',\n",
       " 'da run activ full version da',\n",
       " 'ah poor babi hope urfeel bettersn luv probthat overdos work hey go care spk u sn lot lovejen xxx',\n",
       " 'stop stori told return say order',\n",
       " 'talk sexi make new friend fall love world discreet text date servic text vip see could meet',\n",
       " 'go take babe',\n",
       " 'hai ana tomarrow come morn lt decim gt ill sathi go rto offic repli came home',\n",
       " 'spoon okay',\n",
       " 'say somebodi name tampa',\n",
       " 'work go min',\n",
       " 'brother geniu',\n",
       " 'sorri guess whenev get hold connect mayb hour two text',\n",
       " 'u find time bu coz need sort stuff',\n",
       " 'dude ive see lotta corvett late',\n",
       " 'congratul ur award either yr suppli cd virgin record mysteri gift guarante call ts cs www smsco net pm approx min',\n",
       " 'consid wall bunker shit import never play peac guess place high enough matter',\n",
       " 'privat account statement xxxxxx show un redeem point call identifi code expir',\n",
       " 'hello need posh bird chap user trial prod champney put need address dob asap ta r',\n",
       " 'u want xma free text messag new video phone half price line rental call free find',\n",
       " 'well offici philosoph hole u wanna call home readi save',\n",
       " 'go good problem still need littl experi understand american custom voic',\n",
       " 'text drop x',\n",
       " 'ugh long day exhaust want cuddl take nap',\n",
       " 'talk atleast day otherwis miss best friend world shakespear shesil lt gt',\n",
       " 'shop till u drop either k k cash travel voucher call ntt po box cr bt fixedlin cost ppm mobil vari',\n",
       " 'castor need see someth',\n",
       " 'sunshin quiz wkli q win top soni dvd player u know countri liverpool play mid week txt ansr sp tyron',\n",
       " 'u secret admir look make contact u find r reveal think ur special call',\n",
       " 'u secret admir look make contact u find r reveal think ur special call stopsm',\n",
       " 'remind download content alreadi paid goto http doit mymobi tv collect content',\n",
       " 'see knew give break time woul lead alway want miss curfew gonna gibe til one midnight movi gonna get til need come home need getsleep anyth need b studdi ear train',\n",
       " 'love give massag use lot babi oil fave posit',\n",
       " 'dude go sup',\n",
       " 'yoyyooo u know chang permiss drive mac usb flash drive',\n",
       " 'gibb unsold mike hussey',\n",
       " 'like talk pa abl dont know',\n",
       " 'dun cut short leh u dun like ah fail quit sad',\n",
       " 'unbeliev faglord',\n",
       " 'wife knew time murder exactli',\n",
       " 'ask princess',\n",
       " 'great princess think',\n",
       " 'nutter cutter ctter cttergg cttargg ctargg ctagg ie',\n",
       " 'ok noe u busi realli bore msg u oso dunno wat colour choos one',\n",
       " 'g class earli tomorrow thu tri smoke lt gt',\n",
       " 'superb thought grate u dont everyth u want mean u still opportun happier tomorrow u today',\n",
       " 'hope good week check',\n",
       " 'use hope agent drop sinc book thing year whole boston nyc experi',\n",
       " 'thursday night yeah sure thing work',\n",
       " 'probabl money worri thing come due sever outstand invoic work two three month ago',\n",
       " 'possibl teach',\n",
       " 'wonder phone batteri went dead tell love babe',\n",
       " 'love smell bu tobacco',\n",
       " 'get worri derek taylor alreadi assum worst',\n",
       " 'hey charl sorri late repli',\n",
       " 'lastest stereophon marley dizze racal libertin stroke win nookii game flirt click themob wap bookmark text wap',\n",
       " 'give plu said grinul greet whenev speak',\n",
       " 'white fudg oreo store',\n",
       " 'januari male sale hot gay chat cheaper call nation rate p min cheap p min peak stop text call p min',\n",
       " 'love come took long leav zaher got word ym happi see sad left miss',\n",
       " 'sorri hurt',\n",
       " 'feel nauseou piss eat sweet week caus today plan pig diet week hungri',\n",
       " 'ok lor earli still project meet',\n",
       " 'call da wait call',\n",
       " 'could ask carlo could get anybodi els chip',\n",
       " 'actual send remind today wonder weekend',\n",
       " 'peopl see msg think iam addict msging wrong bcoz know iam addict sweet friend bslvyl',\n",
       " 'hey gave photo regist drive ah tmr wanna meet yck',\n",
       " 'dont talk ever ok word',\n",
       " 'u wana see',\n",
       " 'way school pl send ashley number',\n",
       " 'shall fine avalarr hollalat',\n",
       " 'went attend anoth two round today still reach home',\n",
       " 'actual delet old websit blog magicalsong blogspot com',\n",
       " 'k wait chikku il send aftr lt gt min',\n",
       " 'diet ate mani slice pizza yesterday ugh alway diet',\n",
       " 'k give kvb acc detail',\n",
       " 'oh come ah',\n",
       " 'money r lucki winner claim prize text money million give away ppt x normal text rate box w jy',\n",
       " 'realli sorri b abl friday hope u find altern hope yr term go ok',\n",
       " 'congratul ore mo owo wa enjoy wish mani happi moment fro wherev go',\n",
       " 'samu shoulder yet',\n",
       " 'time think need know near campu',\n",
       " 'dear matthew pleas call landlin complimentari lux tenerif holiday cash await collect ppm sae cs box sk xh',\n",
       " 'dun wear jean lor',\n",
       " 'sinc side fever vomitin',\n",
       " 'k k colleg',\n",
       " 'urgent call landlin complimentari tenerif holiday cash await collect sae cs box hp yf ppm',\n",
       " 'better made friday stuf like pig yesterday feel bleh least writh pain kind bleh',\n",
       " 'sell ton coin sell coin someon thru paypal voila money back life pocket',\n",
       " 'theyr lot place hospit medic place safe',\n",
       " 'get touch folk wait compani txt back name age opt enjoy commun p sm',\n",
       " 'also sorta blown coupl time recent id rather text blue look weed',\n",
       " 'sent score sopha secondari applic school think think appli research cost also contact joke ogunrind school one less expens one',\n",
       " 'cant wait see photo use',\n",
       " 'ur cash balanc current pound maxim ur cash send go p msg cc po box tcr w',\n",
       " 'hey book kb sat alreadi lesson go ah keep sat night free need meet confirm lodg',\n",
       " 'chk ur belovd ms dict',\n",
       " 'time want come',\n",
       " 'awesom lemm know whenev around',\n",
       " 'shb b ok lor thanx',\n",
       " 'beauti truth graviti read care heart feel light someon feel heavi someon leav good night',\n",
       " 'also rememb get dobbi bowl car',\n",
       " 'filthi stori girl wait',\n",
       " 'sorri c ur msg yar lor poor thing one night tmr u brand new room sleep',\n",
       " 'love decis feel could decid love life would much simpler less magic',\n",
       " 'welp appar retir',\n",
       " 'sort code acc bank natwest repli confirm sent right person',\n",
       " '',\n",
       " 'u sure u take sick time',\n",
       " 'urgent tri contact u today draw show prize guarante call land line claim valid hr',\n",
       " 'yo chad gymnast class wanna take site say christian class full',\n",
       " 'better still catch let ask sell lt gt',\n",
       " 'sure night menu know noon menu',\n",
       " 'u want come back beauti necklac token heart that give wife like see one give dont call wait till come',\n",
       " 'will go aptitud class',\n",
       " 'wont b tri sort hous ok',\n",
       " 'yar lor wan go c hors race today mah eat earlier lor ate chicken rice u',\n",
       " 'haha awesom omw back',\n",
       " 'yup thk e shop close lor',\n",
       " 'account number',\n",
       " 'eh u send wrongli lar',\n",
       " 'hey ad crap nite borin without ya boggi u bore biatch thanx u wait til nxt time il ave ya',\n",
       " 'ok shall talk',\n",
       " 'dont hesit know second time weak like keep notebook eat day anyth chang day sure noth',\n",
       " 'hey pay salari de lt gt',\n",
       " 'anoth month need chocol weed alcohol',\n",
       " 'start search get job day great potenti talent',\n",
       " 'reckon need town eightish walk carpark',\n",
       " 'congrat mobil g videophon r call videochat wid mate play java game dload polyph music nolin rentl',\n",
       " 'look fuckin time fuck think',\n",
       " 'yo guess drop',\n",
       " 'carlo say mu lt gt minut',\n",
       " 'offic call lt gt min',\n",
       " 'geeee miss alreadi know think fuck wait till next year togeth love kiss',\n",
       " 'yun ah ubi one say wan call tomorrow call look iren ere got bu ubi cre ubi tech park ph st wkg day n',\n",
       " 'ugh gotta drive back sd la butt sore',\n",
       " 'th juli',\n",
       " 'hi im relax time ever get everi day parti good night get home tomorrow ish',\n",
       " 'wan come come lor din c stripe skirt',\n",
       " 'xma stori peac xma msg love xma miracl jesu hav bless month ahead amp wish u merri xma',\n",
       " 'number',\n",
       " 'chang e one next escal',\n",
       " 'yetund class run water make ok pl',\n",
       " 'lot happen feel quiet beth aunt charli work lot helen mo',\n",
       " 'wait bu stop aft ur lect lar dun c go get car come back n pick',\n",
       " 'aight thank comin',\n",
       " 'heard abt tat',\n",
       " 'lt gt think say syllabu',\n",
       " 'umma say anyth',\n",
       " 'give sec think think',\n",
       " 'panason bluetoothhdset free nokia free motorola free doublemin doubletxt orang contract call mobileupd call optout',\n",
       " 'quit know still get hold anyon cud pick bout pm see pub',\n",
       " 'poyyarikatur kolathupalayam unjalur post erod di lt gt',\n",
       " 'dear hero leav qatar tonit apt opportun pl keep touch lt email gt kerala',\n",
       " 'lol would mom would fit tell whole famili crazi terribl',\n",
       " 'got home babe still awak',\n",
       " 'dunno close oredi v fan',\n",
       " 'buy pizza meat lover suprem u get pick',\n",
       " 'ya told ask wat matter',\n",
       " 'dear regret cudnt pick call drove frm ctla cochin home left mobil car ent style ishtamayoo happi bakrid',\n",
       " 'free st week nokia tone ur mob everi week txt nokia get txting tell ur mate www getz co uk pobox w wq norm p tone',\n",
       " 'shall send exe mail id',\n",
       " 'nope watch tv home go v bore',\n",
       " 'know wait check',\n",
       " 'good afternoon gloriou anniversari day sweet j hope find happi content prey think send teas kiss across sea coax imag fond souveni cougar pen',\n",
       " 'guess somebodi know secretli fanci wanna find give us call landlin datebox essexcm xn p min',\n",
       " 'still tonight',\n",
       " ...]"
      ]
     },
     "execution_count": 18,
     "metadata": {},
     "output_type": "execute_result"
    }
   ],
   "source": [
    "# It is basically a List\n",
    "corpus"
   ]
  },
  {
   "cell_type": "markdown",
   "metadata": {},
   "source": [
    "## Model Building"
   ]
  },
  {
   "cell_type": "code",
   "execution_count": 19,
   "metadata": {},
   "outputs": [
    {
     "data": {
      "text/plain": [
       "array([[0, 0, 0, ..., 0, 0, 0],\n",
       "       [0, 0, 0, ..., 0, 0, 0],\n",
       "       [0, 0, 0, ..., 0, 0, 0],\n",
       "       ...,\n",
       "       [0, 0, 0, ..., 0, 0, 0],\n",
       "       [0, 0, 0, ..., 0, 0, 0],\n",
       "       [0, 0, 0, ..., 0, 0, 0]], dtype=int64)"
      ]
     },
     "execution_count": 19,
     "metadata": {},
     "output_type": "execute_result"
    }
   ],
   "source": [
    "# Creating the Bag of Words model\n",
    "from sklearn.feature_extraction.text import CountVectorizer\n",
    "# It will Take most frequent 2500 Word\n",
    "cv = CountVectorizer(max_features=2500)\n",
    "X = cv.fit_transform(corpus).toarray()\n",
    "X"
   ]
  },
  {
   "cell_type": "code",
   "execution_count": 20,
   "metadata": {},
   "outputs": [
    {
     "data": {
      "text/plain": [
       "(5169, 2500)"
      ]
     },
     "execution_count": 20,
     "metadata": {},
     "output_type": "execute_result"
    }
   ],
   "source": [
    "X.shape"
   ]
  },
  {
   "cell_type": "code",
   "execution_count": 21,
   "metadata": {},
   "outputs": [
    {
     "data": {
      "text/html": [
       "<div>\n",
       "<style scoped>\n",
       "    .dataframe tbody tr th:only-of-type {\n",
       "        vertical-align: middle;\n",
       "    }\n",
       "\n",
       "    .dataframe tbody tr th {\n",
       "        vertical-align: top;\n",
       "    }\n",
       "\n",
       "    .dataframe thead th {\n",
       "        text-align: right;\n",
       "    }\n",
       "</style>\n",
       "<table border=\"1\" class=\"dataframe\">\n",
       "  <thead>\n",
       "    <tr style=\"text-align: right;\">\n",
       "      <th></th>\n",
       "      <th>ham</th>\n",
       "      <th>spam</th>\n",
       "    </tr>\n",
       "  </thead>\n",
       "  <tbody>\n",
       "    <tr>\n",
       "      <th>0</th>\n",
       "      <td>True</td>\n",
       "      <td>False</td>\n",
       "    </tr>\n",
       "    <tr>\n",
       "      <th>1</th>\n",
       "      <td>True</td>\n",
       "      <td>False</td>\n",
       "    </tr>\n",
       "    <tr>\n",
       "      <th>2</th>\n",
       "      <td>False</td>\n",
       "      <td>True</td>\n",
       "    </tr>\n",
       "    <tr>\n",
       "      <th>3</th>\n",
       "      <td>True</td>\n",
       "      <td>False</td>\n",
       "    </tr>\n",
       "    <tr>\n",
       "      <th>4</th>\n",
       "      <td>True</td>\n",
       "      <td>False</td>\n",
       "    </tr>\n",
       "    <tr>\n",
       "      <th>...</th>\n",
       "      <td>...</td>\n",
       "      <td>...</td>\n",
       "    </tr>\n",
       "    <tr>\n",
       "      <th>5164</th>\n",
       "      <td>False</td>\n",
       "      <td>True</td>\n",
       "    </tr>\n",
       "    <tr>\n",
       "      <th>5165</th>\n",
       "      <td>True</td>\n",
       "      <td>False</td>\n",
       "    </tr>\n",
       "    <tr>\n",
       "      <th>5166</th>\n",
       "      <td>True</td>\n",
       "      <td>False</td>\n",
       "    </tr>\n",
       "    <tr>\n",
       "      <th>5167</th>\n",
       "      <td>True</td>\n",
       "      <td>False</td>\n",
       "    </tr>\n",
       "    <tr>\n",
       "      <th>5168</th>\n",
       "      <td>True</td>\n",
       "      <td>False</td>\n",
       "    </tr>\n",
       "  </tbody>\n",
       "</table>\n",
       "<p>5169 rows × 2 columns</p>\n",
       "</div>"
      ],
      "text/plain": [
       "        ham   spam\n",
       "0      True  False\n",
       "1      True  False\n",
       "2     False   True\n",
       "3      True  False\n",
       "4      True  False\n",
       "...     ...    ...\n",
       "5164  False   True\n",
       "5165   True  False\n",
       "5166   True  False\n",
       "5167   True  False\n",
       "5168   True  False\n",
       "\n",
       "[5169 rows x 2 columns]"
      ]
     },
     "execution_count": 21,
     "metadata": {},
     "output_type": "execute_result"
    }
   ],
   "source": [
    "y=pd.get_dummies(messages['label'])\n",
    "y"
   ]
  },
  {
   "cell_type": "code",
   "execution_count": 22,
   "metadata": {},
   "outputs": [
    {
     "data": {
      "text/plain": [
       "array([False, False,  True, ..., False, False, False])"
      ]
     },
     "execution_count": 22,
     "metadata": {},
     "output_type": "execute_result"
    }
   ],
   "source": [
    "y=y.iloc[:,1].values\n",
    "y"
   ]
  },
  {
   "cell_type": "code",
   "execution_count": 23,
   "metadata": {},
   "outputs": [],
   "source": [
    "# Train Test Split\n",
    "from sklearn.model_selection import train_test_split\n",
    "X_train, X_test, y_train, y_test = train_test_split(X, y, test_size = 0.20, random_state = 0)"
   ]
  },
  {
   "cell_type": "code",
   "execution_count": 24,
   "metadata": {},
   "outputs": [
    {
     "data": {
      "text/plain": [
       "array([[0, 0, 0, ..., 0, 0, 0],\n",
       "       [0, 0, 0, ..., 0, 0, 0],\n",
       "       [0, 0, 0, ..., 0, 0, 0],\n",
       "       ...,\n",
       "       [0, 0, 0, ..., 0, 0, 0],\n",
       "       [0, 0, 0, ..., 0, 0, 0],\n",
       "       [0, 0, 0, ..., 0, 0, 0]], dtype=int64)"
      ]
     },
     "execution_count": 24,
     "metadata": {},
     "output_type": "execute_result"
    }
   ],
   "source": [
    "X_train"
   ]
  },
  {
   "cell_type": "code",
   "execution_count": 25,
   "metadata": {},
   "outputs": [
    {
     "data": {
      "text/plain": [
       "array([False, False, False, ..., False,  True,  True])"
      ]
     },
     "execution_count": 25,
     "metadata": {},
     "output_type": "execute_result"
    }
   ],
   "source": [
    "y_train"
   ]
  },
  {
   "cell_type": "code",
   "execution_count": 26,
   "metadata": {},
   "outputs": [
    {
     "name": "stdout",
     "output_type": "stream",
     "text": [
      "accuracy: 0.97678916827853\n"
     ]
    }
   ],
   "source": [
    "# Training model using Naive bayes classifier\n",
    "\n",
    "from sklearn.naive_bayes import MultinomialNB\n",
    "spam_detect_model = MultinomialNB().fit(X_train, y_train)\n",
    "\n",
    "y_pred=spam_detect_model.predict(X_test)\n",
    "\n",
    "from sklearn.metrics import accuracy_score\n",
    "print(\"accuracy:\", accuracy_score(y_test, y_pred))"
   ]
  },
  {
   "cell_type": "code",
   "execution_count": 27,
   "metadata": {},
   "outputs": [
    {
     "name": "stdout",
     "output_type": "stream",
     "text": [
      "Classification Report:\n",
      "              precision    recall  f1-score   support\n",
      "\n",
      "       False       0.99      0.98      0.99       896\n",
      "        True       0.89      0.95      0.92       138\n",
      "\n",
      "    accuracy                           0.98      1034\n",
      "   macro avg       0.94      0.97      0.95      1034\n",
      "weighted avg       0.98      0.98      0.98      1034\n",
      "\n"
     ]
    }
   ],
   "source": [
    "from sklearn.metrics import classification_report, confusion_matrix\n",
    "# Print classification report\n",
    "print(\"Classification Report:\")\n",
    "print(classification_report(y_test, y_pred))"
   ]
  },
  {
   "cell_type": "code",
   "execution_count": 28,
   "metadata": {},
   "outputs": [
    {
     "data": {
      "image/png": "[encoded data removed]",
      "text/plain": [
       "<Figure size 800x600 with 2 Axes>"
      ]
     },
     "metadata": {},
     "output_type": "display_data"
    }
   ],
   "source": [
    "# Print confusion matrix\n",
    "import seaborn as sns\n",
    "import matplotlib.pyplot as plt\n",
    "# Assuming you have the confusion matrix stored in 'conf_matrix'\n",
    "conf_matrix = confusion_matrix(y_test, y_pred)\n",
    "\n",
    "# Plotting the heatmap\n",
    "plt.figure(figsize=(8, 6))\n",
    "sns.heatmap(conf_matrix, annot=True, fmt='d', cmap='Set1')\n",
    "plt.title('Confusion Matrix')\n",
    "plt.xlabel('Predicted Label')\n",
    "plt.ylabel('True Label')\n",
    "plt.show()"
   ]
  },
  {
   "cell_type": "code",
   "execution_count": 29,
   "metadata": {},
   "outputs": [],
   "source": [
    "#TF_IDF\n",
    "from sklearn.feature_extraction.text import TfidfVectorizer\n",
    "# fit\n",
    "tfvectorizer = TfidfVectorizer(max_features=2500)\n",
    "X = tfvectorizer.fit_transform(corpus).toarray()\n",
    "\n",
    "y=pd.get_dummies(messages['label'])\n",
    "y=y.iloc[:,1].values"
   ]
  },
  {
   "cell_type": "code",
   "execution_count": 30,
   "metadata": {},
   "outputs": [],
   "source": [
    "# Train Test Split\n",
    "\n",
    "from sklearn.model_selection import train_test_split\n",
    "X_train, X_test, y_train, y_test = train_test_split(X, y, test_size = 0.20, random_state = 0)"
   ]
  },
  {
   "cell_type": "code",
   "execution_count": 31,
   "metadata": {},
   "outputs": [],
   "source": [
    "# Training model using Naive bayes classifier\n",
    "\n",
    "from sklearn.naive_bayes import MultinomialNB\n",
    "spam_detect_model = MultinomialNB().fit(X_train, y_train)"
   ]
  },
  {
   "cell_type": "code",
   "execution_count": 32,
   "metadata": {},
   "outputs": [
    {
     "name": "stdout",
     "output_type": "stream",
     "text": [
      "accuracy: 0.97678916827853\n"
     ]
    }
   ],
   "source": [
    "y_pred=spam_detect_model.predict(X_test)\n",
    "\n",
    "from sklearn.metrics import accuracy_score\n",
    "print(\"accuracy:\", accuracy_score(y_test, y_pred))"
   ]
  },
  {
   "cell_type": "code",
   "execution_count": 33,
   "metadata": {},
   "outputs": [
    {
     "name": "stdout",
     "output_type": "stream",
     "text": [
      "Classification Report:\n",
      "              precision    recall  f1-score   support\n",
      "\n",
      "       False       0.97      1.00      0.99       896\n",
      "        True       0.99      0.83      0.91       138\n",
      "\n",
      "    accuracy                           0.98      1034\n",
      "   macro avg       0.98      0.92      0.95      1034\n",
      "weighted avg       0.98      0.98      0.98      1034\n",
      "\n"
     ]
    }
   ],
   "source": [
    "from sklearn.metrics import classification_report, confusion_matrix\n",
    "# Print classification report\n",
    "print(\"Classification Report:\")\n",
    "print(classification_report(y_test, y_pred))"
   ]
  },
  {
   "cell_type": "markdown",
   "metadata": {},
   "source": [
    "### Perfect Model as Precision of True Class (Spam) are 1 so \"False Positive (FP)\" is equal to 0"
   ]
  },
  {
   "cell_type": "code",
   "execution_count": 34,
   "metadata": {},
   "outputs": [
    {
     "data": {
      "image/png": "[encoded data removed]",
      "text/plain": [
       "<Figure size 800x600 with 2 Axes>"
      ]
     },
     "metadata": {},
     "output_type": "display_data"
    }
   ],
   "source": [
    "# Print confusion matrix\n",
    "import seaborn as sns\n",
    "import matplotlib.pyplot as plt\n",
    "# Assuming you have the confusion matrix stored in 'conf_matrix'\n",
    "conf_matrix = confusion_matrix(y_test, y_pred)\n",
    "\n",
    "# Plotting the heatmap\n",
    "plt.figure(figsize=(8, 6))\n",
    "sns.heatmap(conf_matrix, annot=True, fmt='d', cmap='Set1')\n",
    "plt.title('Confusion Matrix')\n",
    "plt.xlabel('Predicted Value')\n",
    "plt.ylabel('Actual Value')\n",
    "plt.show()"
   ]
  },
  {
   "cell_type": "code",
   "execution_count": 35,
   "metadata": {},
   "outputs": [],
   "source": [
    "import pickle\n",
    "pickle.dump(tfvectorizer,open('tfvectorizer.pkl','wb'))\n",
    "pickle.dump(spam_detect_model,open('model.pkl','wb'))"
   ]
  },
  {
   "cell_type": "code",
   "execution_count": 36,
   "metadata": {},
   "outputs": [],
   "source": [
    "tfidf = pickle.load(open('tfvectorizer.pkl','rb'))\n",
    "model = pickle.load(open('model.pkl','rb'))\n",
    "\n"
   ]
  },
  {
   "cell_type": "code",
   "execution_count": 37,
   "metadata": {},
   "outputs": [
    {
     "data": {
      "text/plain": [
       "['six chanc win cash pound txt csh send cost p day day tsandc appli repli hl info']"
      ]
     },
     "execution_count": 37,
     "metadata": {},
     "output_type": "execute_result"
    }
   ],
   "source": [
    "message=\"SIX chances to win CASH! From 100 to 20,000 pounds txt> CSH11 and send to 87575. Cost 150p/day, 6days, 16+ TsandCs apply Reply HL 4 info\"\n",
    "\n",
    "corpus_message=[]\n",
    "review = re.sub('[^a-zA-Z]', ' ', message)\n",
    "review = review.lower()\n",
    "review = review.split()\n",
    "    \n",
    "review = [ps.stem(word) for word in review if not word in stopwords.words('english')]\n",
    "review = ' '.join(review)\n",
    "corpus_message.append(review)\n",
    "corpus_message\n"
   ]
  },
  {
   "cell_type": "code",
   "execution_count": 38,
   "metadata": {},
   "outputs": [
    {
     "data": {
      "text/plain": [
       "array([[0., 0., 0., ..., 0., 0., 0.]])"
      ]
     },
     "execution_count": 38,
     "metadata": {},
     "output_type": "execute_result"
    }
   ],
   "source": [
    "X_input = tfidf.transform(corpus_message).toarray()\n",
    "X_input"
   ]
  },
  {
   "cell_type": "code",
   "execution_count": 39,
   "metadata": {},
   "outputs": [
    {
     "data": {
      "text/plain": [
       "array([ True])"
      ]
     },
     "execution_count": 39,
     "metadata": {},
     "output_type": "execute_result"
    }
   ],
   "source": [
    "model.predict(X_input)"
   ]
  },
  {
   "cell_type": "code",
   "execution_count": 40,
   "metadata": {},
   "outputs": [
    {
     "name": "stdout",
     "output_type": "stream",
     "text": [
      "[ True]\n"
     ]
    }
   ],
   "source": [
    "from sklearn.feature_extraction.text import TfidfVectorizer\n",
    "import pickle\n",
    "\n",
    "# Load the trained TfidfVectorizer and model\n",
    "tfidf = pickle.load(open('tfvectorizer.pkl', 'rb'))\n",
    "model = pickle.load(open('model.pkl', 'rb'))\n",
    "\n",
    "# New message for prediction\n",
    "message = \"SIX chances to win CASH! From 100 to 20,000 pounds txt> CSH11 and send to 87575. Cost 150p/day, 6days, 16+ TsandCs apply Reply HL 4 info\"\n",
    "\n",
    "# Preprocess the new message\n",
    "corpus_message = []\n",
    "review = re.sub('[^a-zA-Z]', ' ', message)\n",
    "review = review.lower()\n",
    "review = review.split()\n",
    "\n",
    "review = [ps.stem(word) for word in review if not word in stopwords.words('english')]\n",
    "review = ' '.join(review)\n",
    "corpus_message.append(review)\n",
    "\n",
    "# Use transform instead of fit_transform on the new data\n",
    "X_input = tfidf.transform(corpus_message).toarray()\n",
    "\n",
    "# Predict using the model\n",
    "result = model.predict(X_input)\n",
    "print(result)"
   ]
  }
 ],
 "metadata": {
  "kernelspec": {
   "display_name": "base",
   "language": "python",
   "name": "python3"
  },
  "language_info": {
   "codemirror_mode": {
    "name": "ipython",
    "version": 3
   },
   "file_extension": ".py",
   "mimetype": "text/x-python",
   "name": "python",
   "nbconvert_exporter": "python",
   "pygments_lexer": "ipython3",
   "version": "3.11.7"
  }
 },
 "nbformat": 4,
 "nbformat_minor": 2
}
